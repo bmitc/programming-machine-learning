{
   "cells": [
      {
         "cell_type": "code",
         "execution_count": 18,
         "metadata": {
            "dotnet_interactive": {
               "language": "fsharp"
            }
         },
         "outputs": [
            {
               "data": {
                  "text/html": [
                     "<div><div></div><div></div><div><strong>Installed Packages</strong><ul><li><span>FSharp.Data, 6.3.0</span></li><li><span>Plotly.NET, 2.0.0-preview.16</span></li><li><span>Plotly.NET.Interactive, 2.0.0-preview.16</span></li><li><span>XPlot.Plotly, 4.0.6</span></li><li><span>XPlot.Plotly.Interactive, 4.0.7</span></li></ul></div></div>"
                  ]
               },
               "metadata": {},
               "output_type": "display_data"
            }
         ],
         "source": [
            "#r \"nuget: FSharp.Data\"\n",
            "#r \"nuget: Plotly.NET, 2.0.0-preview.16\"\n",
            "#r \"nuget: Plotly.NET.Interactive, 2.0.0-preview.16\"\n",
            "#r \"nuget: XPlot.Plotly\"\n",
            "#r \"nuget: XPlot.Plotly.Interactive\""
         ]
      },
      {
         "cell_type": "code",
         "execution_count": 19,
         "metadata": {
            "dotnet_interactive": {
               "language": "fsharp"
            }
         },
         "outputs": [],
         "source": [
            "open FSharp.Data\n",
            "open Plotly.NET\n",
            "open XPlot.Plotly"
         ]
      },
      {
         "cell_type": "code",
         "execution_count": 20,
         "metadata": {
            "dotnet_interactive": {
               "language": "fsharp"
            }
         },
         "outputs": [],
         "source": [
            "let text = CsvFile.Load(System.IO.Path.Join([|__SOURCE_DIRECTORY__; \"../data/pizza.csv\"|]), separators=\",\", hasHeaders=true)\n",
            "\n",
            "let x,y = [|for row in text.Rows -> (float row.[0], float row.[1])|] |> Array.unzip"
         ]
      },
      {
         "cell_type": "code",
         "execution_count": 21,
         "metadata": {
            "dotnet_interactive": {
               "language": "fsharp"
            }
         },
         "outputs": [
            {
               "data": {
                  "text/html": [
                     "<div class=\"dni-plaintext\"><pre>[ 13, 2, 14, 23, 13 ]</pre></div><style>\r\n",
                     ".dni-code-hint {\r\n",
                     "    font-style: italic;\r\n",
                     "    overflow: hidden;\r\n",
                     "    white-space: nowrap;\r\n",
                     "}\r\n",
                     ".dni-treeview {\r\n",
                     "    white-space: nowrap;\r\n",
                     "}\r\n",
                     ".dni-treeview td {\r\n",
                     "    vertical-align: top;\r\n",
                     "    text-align: start;\r\n",
                     "}\r\n",
                     "details.dni-treeview {\r\n",
                     "    padding-left: 1em;\r\n",
                     "}\r\n",
                     "table td {\r\n",
                     "    text-align: start;\r\n",
                     "}\r\n",
                     "table tr { \r\n",
                     "    vertical-align: top; \r\n",
                     "    margin: 0em 0px;\r\n",
                     "}\r\n",
                     "table tr td pre \r\n",
                     "{ \r\n",
                     "    vertical-align: top !important; \r\n",
                     "    margin: 0em 0px !important;\r\n",
                     "} \r\n",
                     "table th {\r\n",
                     "    text-align: start;\r\n",
                     "}\r\n",
                     "</style>"
                  ]
               },
               "metadata": {},
               "output_type": "display_data"
            }
         ],
         "source": [
            "x.[0..4]"
         ]
      },
      {
         "cell_type": "code",
         "execution_count": 22,
         "metadata": {
            "dotnet_interactive": {
               "language": "fsharp"
            }
         },
         "outputs": [
            {
               "data": {
                  "text/html": [
                     "<div class=\"dni-plaintext\"><pre>[ 33, 16, 32, 51, 27 ]</pre></div><style>\r\n",
                     ".dni-code-hint {\r\n",
                     "    font-style: italic;\r\n",
                     "    overflow: hidden;\r\n",
                     "    white-space: nowrap;\r\n",
                     "}\r\n",
                     ".dni-treeview {\r\n",
                     "    white-space: nowrap;\r\n",
                     "}\r\n",
                     ".dni-treeview td {\r\n",
                     "    vertical-align: top;\r\n",
                     "    text-align: start;\r\n",
                     "}\r\n",
                     "details.dni-treeview {\r\n",
                     "    padding-left: 1em;\r\n",
                     "}\r\n",
                     "table td {\r\n",
                     "    text-align: start;\r\n",
                     "}\r\n",
                     "table tr { \r\n",
                     "    vertical-align: top; \r\n",
                     "    margin: 0em 0px;\r\n",
                     "}\r\n",
                     "table tr td pre \r\n",
                     "{ \r\n",
                     "    vertical-align: top !important; \r\n",
                     "    margin: 0em 0px !important;\r\n",
                     "} \r\n",
                     "table th {\r\n",
                     "    text-align: start;\r\n",
                     "}\r\n",
                     "</style>"
                  ]
               },
               "metadata": {},
               "output_type": "display_data"
            }
         ],
         "source": [
            "y.[0..4]"
         ]
      },
      {
         "cell_type": "code",
         "execution_count": 23,
         "metadata": {
            "dotnet_interactive": {
               "language": "fsharp"
            }
         },
         "outputs": [
            {
               "data": {
                  "text/html": [
                     "<!DOCTYPE html>\r\n",
                     "<div style=\"width: 900px; height: 500px;\" id=\"8936e728-6e41-43e6-b0ad-a7aa496a73fa\"></div><script type=\"text/javascript\">\r\n",
                     "\n",
                     "var renderPlotly = function() {\n",
                     "    var xplotRequire = require.config({context:'xplot-3.0.1',paths:{plotly:'https://cdn.plot.ly/plotly-1.49.2.min'}}) || require;\n",
                     "    xplotRequire(['plotly'], function(Plotly) { \r\n",
                     "\n",
                     "            var data = [{\"type\":\"scatter\",\"x\":[13.0,2.0,14.0,23.0,13.0,1.0,18.0,10.0,26.0,3.0,3.0,21.0,7.0,22.0,2.0,27.0,6.0,10.0,18.0,15.0,9.0,26.0,8.0,15.0,10.0,21.0,5.0,6.0,13.0,13.0],\"y\":[33.0,16.0,32.0,51.0,27.0,16.0,34.0,17.0,29.0,15.0,15.0,32.0,22.0,37.0,13.0,44.0,16.0,21.0,37.0,30.0,26.0,34.0,23.0,39.0,27.0,37.0,17.0,18.0,25.0,23.0],\"mode\":\"markers\"}];\n",
                     "           var layout = {\"xaxis\":{\"title\":\"Reservations\",\"_isSubplotObj\":true},\"yaxis\":{\"title\":\"Pizzas\",\"_isSubplotObj\":true}};\n",
                     "           Plotly.newPlot('8936e728-6e41-43e6-b0ad-a7aa496a73fa', data, layout);\n",
                     "        \r\n",
                     "});\n",
                     "};\r\n",
                     "// ensure `require` is available globally\r\n",
                     "if ((typeof(require) !==  typeof(Function)) || (typeof(require.config) !== typeof(Function))) {\r\n",
                     "    let require_script = document.createElement('script');\r\n",
                     "    require_script.setAttribute('src', 'https://cdnjs.cloudflare.com/ajax/libs/require.js/2.3.6/require.min.js');\r\n",
                     "    require_script.setAttribute('type', 'text/javascript');\r\n",
                     "    \r\n",
                     "    \r\n",
                     "    require_script.onload = function() {\r\n",
                     "        renderPlotly();\r\n",
                     "    };\r\n",
                     "\r\n",
                     "    document.getElementsByTagName('head')[0].appendChild(require_script);\r\n",
                     "}\r\n",
                     "else {\r\n",
                     "    renderPlotly();\r\n",
                     "}\r\n",
                     "\r\n",
                     "</script>\r\n"
                  ]
               },
               "metadata": {},
               "output_type": "display_data"
            }
         ],
         "source": [
            "Scatter(x=x, y=y, mode = \"markers\")\n",
            "|> Chart.Plot\n",
            "|> Chart.WithXTitle \"Reservations\"\n",
            "|> Chart.WithYTitle \"Pizzas\""
         ]
      },
      {
         "cell_type": "code",
         "execution_count": 24,
         "metadata": {
            "dotnet_interactive": {
               "language": "fsharp"
            }
         },
         "outputs": [
            {
               "data": {
                  "text/html": [
                     "<div id=\"8b39ba31-6417-4686-8bc2-ed99283417ee\"><!-- Plotly chart will be drawn inside this DIV --></div>\r\n",
                     "<script type=\"text/javascript\">\r\n",
                     "\r\n",
                     "            var renderPlotly_8b39ba31641746868bc2ed99283417ee = function() {\r\n",
                     "            var fsharpPlotlyRequire = requirejs.config({context:'fsharp-plotly',paths:{plotly:'https://cdn.plot.ly/plotly-2.6.3.min'}}) || require;\r\n",
                     "            fsharpPlotlyRequire(['plotly'], function(Plotly) {\r\n",
                     "\r\n",
                     "            var data = [{\"type\":\"scatter\",\"name\":\"test\",\"mode\":\"markers\",\"x\":[13.0,2.0,14.0,23.0,13.0,1.0,18.0,10.0,26.0,3.0,3.0,21.0,7.0,22.0,2.0,27.0,6.0,10.0,18.0,15.0,9.0,26.0,8.0,15.0,10.0,21.0,5.0,6.0,13.0,13.0],\"y\":[33.0,16.0,32.0,51.0,27.0,16.0,34.0,17.0,29.0,15.0,15.0,32.0,22.0,37.0,13.0,44.0,16.0,21.0,37.0,30.0,26.0,34.0,23.0,39.0,27.0,37.0,17.0,18.0,25.0,23.0],\"marker\":{},\"line\":{}}];\r\n",
                     "            var layout = {\"width\":600,\"height\":600,\"template\":{\"layout\":{\"title\":{\"x\":0.05},\"font\":{\"color\":\"rgba(42, 63, 95, 1.0)\"},\"paper_bgcolor\":\"rgba(255, 255, 255, 1.0)\",\"plot_bgcolor\":\"rgba(229, 236, 246, 1.0)\",\"autotypenumbers\":\"strict\",\"colorscale\":{\"diverging\":[[0.0,\"#8e0152\"],[0.1,\"#c51b7d\"],[0.2,\"#de77ae\"],[0.3,\"#f1b6da\"],[0.4,\"#fde0ef\"],[0.5,\"#f7f7f7\"],[0.6,\"#e6f5d0\"],[0.7,\"#b8e186\"],[0.8,\"#7fbc41\"],[0.9,\"#4d9221\"],[1.0,\"#276419\"]],\"sequential\":[[0.0,\"#0d0887\"],[0.1111111111111111,\"#46039f\"],[0.2222222222222222,\"#7201a8\"],[0.3333333333333333,\"#9c179e\"],[0.4444444444444444,\"#bd3786\"],[0.5555555555555556,\"#d8576b\"],[0.6666666666666666,\"#ed7953\"],[0.7777777777777778,\"#fb9f3a\"],[0.8888888888888888,\"#fdca26\"],[1.0,\"#f0f921\"]],\"sequentialminus\":[[0.0,\"#0d0887\"],[0.1111111111111111,\"#46039f\"],[0.2222222222222222,\"#7201a8\"],[0.3333333333333333,\"#9c179e\"],[0.4444444444444444,\"#bd3786\"],[0.5555555555555556,\"#d8576b\"],[0.6666666666666666,\"#ed7953\"],[0.7777777777777778,\"#fb9f3a\"],[0.8888888888888888,\"#fdca26\"],[1.0,\"#f0f921\"]]},\"hovermode\":\"closest\",\"hoverlabel\":{\"align\":\"left\"},\"coloraxis\":{\"colorbar\":{\"outlinewidth\":0.0,\"ticks\":\"\"}},\"geo\":{\"showland\":true,\"landcolor\":\"rgba(229, 236, 246, 1.0)\",\"showlakes\":true,\"lakecolor\":\"rgba(255, 255, 255, 1.0)\",\"subunitcolor\":\"rgba(255, 255, 255, 1.0)\",\"bgcolor\":\"rgba(255, 255, 255, 1.0)\"},\"mapbox\":{\"style\":\"light\"},\"polar\":{\"bgcolor\":\"rgba(229, 236, 246, 1.0)\",\"radialaxis\":{\"linecolor\":\"rgba(255, 255, 255, 1.0)\",\"gridcolor\":\"rgba(255, 255, 255, 1.0)\",\"ticks\":\"\"},\"angularaxis\":{\"linecolor\":\"rgba(255, 255, 255, 1.0)\",\"gridcolor\":\"rgba(255, 255, 255, 1.0)\",\"ticks\":\"\"}},\"scene\":{\"xaxis\":{\"ticks\":\"\",\"linecolor\":\"rgba(255, 255, 255, 1.0)\",\"gridcolor\":\"rgba(255, 255, 255, 1.0)\",\"gridwidth\":2.0,\"zerolinecolor\":\"rgba(255, 255, 255, 1.0)\",\"backgroundcolor\":\"rgba(229, 236, 246, 1.0)\",\"showbackground\":true},\"yaxis\":{\"ticks\":\"\",\"linecolor\":\"rgba(255, 255, 255, 1.0)\",\"gridcolor\":\"rgba(255, 255, 255, 1.0)\",\"gridwidth\":2.0,\"zerolinecolor\":\"rgba(255, 255, 255, 1.0)\",\"backgroundcolor\":\"rgba(229, 236, 246, 1.0)\",\"showbackground\":true},\"zaxis\":{\"ticks\":\"\",\"linecolor\":\"rgba(255, 255, 255, 1.0)\",\"gridcolor\":\"rgba(255, 255, 255, 1.0)\",\"gridwidth\":2.0,\"zerolinecolor\":\"rgba(255, 255, 255, 1.0)\",\"backgroundcolor\":\"rgba(229, 236, 246, 1.0)\",\"showbackground\":true}},\"ternary\":{\"aaxis\":{\"ticks\":\"\",\"linecolor\":\"rgba(255, 255, 255, 1.0)\",\"gridcolor\":\"rgba(255, 255, 255, 1.0)\"},\"baxis\":{\"ticks\":\"\",\"linecolor\":\"rgba(255, 255, 255, 1.0)\",\"gridcolor\":\"rgba(255, 255, 255, 1.0)\"},\"caxis\":{\"ticks\":\"\",\"linecolor\":\"rgba(255, 255, 255, 1.0)\",\"gridcolor\":\"rgba(255, 255, 255, 1.0)\"},\"bgcolor\":\"rgba(229, 236, 246, 1.0)\"},\"xaxis\":{\"title\":{\"standoff\":15},\"ticks\":\"\",\"automargin\":true,\"linecolor\":\"rgba(255, 255, 255, 1.0)\",\"gridcolor\":\"rgba(255, 255, 255, 1.0)\",\"zerolinecolor\":\"rgba(255, 255, 255, 1.0)\",\"zerolinewidth\":2.0},\"yaxis\":{\"title\":{\"standoff\":15},\"ticks\":\"\",\"automargin\":true,\"linecolor\":\"rgba(255, 255, 255, 1.0)\",\"gridcolor\":\"rgba(255, 255, 255, 1.0)\",\"zerolinecolor\":\"rgba(255, 255, 255, 1.0)\",\"zerolinewidth\":2.0},\"annotationdefaults\":{\"arrowcolor\":\"#2a3f5f\",\"arrowhead\":0,\"arrowwidth\":1},\"shapedefaults\":{\"line\":{\"color\":\"rgba(42, 63, 95, 1.0)\"}},\"colorway\":[\"rgba(99, 110, 250, 1.0)\",\"rgba(239, 85, 59, 1.0)\",\"rgba(0, 204, 150, 1.0)\",\"rgba(171, 99, 250, 1.0)\",\"rgba(255, 161, 90, 1.0)\",\"rgba(25, 211, 243, 1.0)\",\"rgba(255, 102, 146, 1.0)\",\"rgba(182, 232, 128, 1.0)\",\"rgba(255, 151, 255, 1.0)\",\"rgba(254, 203, 82, 1.0)\"]},\"data\":{\"bar\":[{\"marker\":{\"line\":{\"color\":\"rgba(229, 236, 246, 1.0)\",\"width\":0.5},\"pattern\":{\"fillmode\":\"overlay\",\"size\":10,\"solidity\":0.2}},\"errorx\":{\"color\":\"rgba(42, 63, 95, 1.0)\"},\"errory\":{\"color\":\"rgba(42, 63, 95, 1.0)\"}}],\"barpolar\":[{\"marker\":{\"line\":{\"color\":\"rgba(229, 236, 246, 1.0)\",\"width\":0.5},\"pattern\":{\"fillmode\":\"overlay\",\"size\":10,\"solidity\":0.2}}}],\"carpet\":[{\"aaxis\":{\"linecolor\":\"rgba(255, 255, 255, 1.0)\",\"gridcolor\":\"rgba(255, 255, 255, 1.0)\",\"endlinecolor\":\"rgba(42, 63, 95, 1.0)\",\"minorgridcolor\":\"rgba(255, 255, 255, 1.0)\",\"startlinecolor\":\"rgba(42, 63, 95, 1.0)\"},\"baxis\":{\"linecolor\":\"rgba(255, 255, 255, 1.0)\",\"gridcolor\":\"rgba(255, 255, 255, 1.0)\",\"endlinecolor\":\"rgba(42, 63, 95, 1.0)\",\"minorgridcolor\":\"rgba(255, 255, 255, 1.0)\",\"startlinecolor\":\"rgba(42, 63, 95, 1.0)\"}}],\"choropleth\":[{\"colorbar\":{\"outlinewidth\":0.0,\"ticks\":\"\"},\"colorscale\":[[0.0,\"#0d0887\"],[0.1111111111111111,\"#46039f\"],[0.2222222222222222,\"#7201a8\"],[0.3333333333333333,\"#9c179e\"],[0.4444444444444444,\"#bd3786\"],[0.5555555555555556,\"#d8576b\"],[0.6666666666666666,\"#ed7953\"],[0.7777777777777778,\"#fb9f3a\"],[0.8888888888888888,\"#fdca26\"],[1.0,\"#f0f921\"]]}],\"contour\":[{\"colorbar\":{\"outlinewidth\":0.0,\"ticks\":\"\"},\"colorscale\":[[0.0,\"#0d0887\"],[0.1111111111111111,\"#46039f\"],[0.2222222222222222,\"#7201a8\"],[0.3333333333333333,\"#9c179e\"],[0.4444444444444444,\"#bd3786\"],[0.5555555555555556,\"#d8576b\"],[0.6666666666666666,\"#ed7953\"],[0.7777777777777778,\"#fb9f3a\"],[0.8888888888888888,\"#fdca26\"],[1.0,\"#f0f921\"]]}],\"contourcarpet\":[{\"colorbar\":{\"outlinewidth\":0.0,\"ticks\":\"\"}}],\"heatmap\":[{\"colorbar\":{\"outlinewidth\":0.0,\"ticks\":\"\"},\"colorscale\":[[0.0,\"#0d0887\"],[0.1111111111111111,\"#46039f\"],[0.2222222222222222,\"#7201a8\"],[0.3333333333333333,\"#9c179e\"],[0.4444444444444444,\"#bd3786\"],[0.5555555555555556,\"#d8576b\"],[0.6666666666666666,\"#ed7953\"],[0.7777777777777778,\"#fb9f3a\"],[0.8888888888888888,\"#fdca26\"],[1.0,\"#f0f921\"]]}],\"heatmapgl\":[{\"colorbar\":{\"outlinewidth\":0.0,\"ticks\":\"\"},\"colorscale\":[[0.0,\"#0d0887\"],[0.1111111111111111,\"#46039f\"],[0.2222222222222222,\"#7201a8\"],[0.3333333333333333,\"#9c179e\"],[0.4444444444444444,\"#bd3786\"],[0.5555555555555556,\"#d8576b\"],[0.6666666666666666,\"#ed7953\"],[0.7777777777777778,\"#fb9f3a\"],[0.8888888888888888,\"#fdca26\"],[1.0,\"#f0f921\"]]}],\"histogram\":[{\"marker\":{\"pattern\":{\"fillmode\":\"overlay\",\"size\":10,\"solidity\":0.2}}}],\"histogram2d\":[{\"colorbar\":{\"outlinewidth\":0.0,\"ticks\":\"\"},\"colorscale\":[[0.0,\"#0d0887\"],[0.1111111111111111,\"#46039f\"],[0.2222222222222222,\"#7201a8\"],[0.3333333333333333,\"#9c179e\"],[0.4444444444444444,\"#bd3786\"],[0.5555555555555556,\"#d8576b\"],[0.6666666666666666,\"#ed7953\"],[0.7777777777777778,\"#fb9f3a\"],[0.8888888888888888,\"#fdca26\"],[1.0,\"#f0f921\"]]}],\"histogram2dcontour\":[{\"colorbar\":{\"outlinewidth\":0.0,\"ticks\":\"\"},\"colorscale\":[[0.0,\"#0d0887\"],[0.1111111111111111,\"#46039f\"],[0.2222222222222222,\"#7201a8\"],[0.3333333333333333,\"#9c179e\"],[0.4444444444444444,\"#bd3786\"],[0.5555555555555556,\"#d8576b\"],[0.6666666666666666,\"#ed7953\"],[0.7777777777777778,\"#fb9f3a\"],[0.8888888888888888,\"#fdca26\"],[1.0,\"#f0f921\"]]}],\"mesh3d\":[{\"colorbar\":{\"outlinewidth\":0.0,\"ticks\":\"\"}}],\"parcoords\":[{\"line\":{\"colorbar\":{\"outlinewidth\":0.0,\"ticks\":\"\"}}}],\"pie\":[{\"automargin\":true}],\"scatter\":[{\"marker\":{\"colorbar\":{\"outlinewidth\":0.0,\"ticks\":\"\"}}}],\"scatter3d\":[{\"marker\":{\"colorbar\":{\"outlinewidth\":0.0,\"ticks\":\"\"}},\"line\":{\"colorbar\":{\"outlinewidth\":0.0,\"ticks\":\"\"}}}],\"scattercarpet\":[{\"marker\":{\"colorbar\":{\"outlinewidth\":0.0,\"ticks\":\"\"}}}],\"scattergeo\":[{\"marker\":{\"colorbar\":{\"outlinewidth\":0.0,\"ticks\":\"\"}}}],\"scattergl\":[{\"marker\":{\"colorbar\":{\"outlinewidth\":0.0,\"ticks\":\"\"}}}],\"scattermapbox\":[{\"marker\":{\"colorbar\":{\"outlinewidth\":0.0,\"ticks\":\"\"}}}],\"scatterpolar\":[{\"marker\":{\"colorbar\":{\"outlinewidth\":0.0,\"ticks\":\"\"}}}],\"scatterpolargl\":[{\"marker\":{\"colorbar\":{\"outlinewidth\":0.0,\"ticks\":\"\"}}}],\"scatterternary\":[{\"marker\":{\"colorbar\":{\"outlinewidth\":0.0,\"ticks\":\"\"}}}],\"surface\":[{\"colorbar\":{\"outlinewidth\":0.0,\"ticks\":\"\"},\"colorscale\":[[0.0,\"#0d0887\"],[0.1111111111111111,\"#46039f\"],[0.2222222222222222,\"#7201a8\"],[0.3333333333333333,\"#9c179e\"],[0.4444444444444444,\"#bd3786\"],[0.5555555555555556,\"#d8576b\"],[0.6666666666666666,\"#ed7953\"],[0.7777777777777778,\"#fb9f3a\"],[0.8888888888888888,\"#fdca26\"],[1.0,\"#f0f921\"]]}],\"table\":[{\"cells\":{\"fill\":{\"color\":\"rgba(235, 240, 248, 1.0)\"},\"line\":{\"color\":\"rgba(255, 255, 255, 1.0)\"}},\"header\":{\"fill\":{\"color\":\"rgba(200, 212, 227, 1.0)\"},\"line\":{\"color\":\"rgba(255, 255, 255, 1.0)\"}}}]}},\"xaxis\":{\"title\":{\"text\":\"Reservations\"}},\"yaxis\":{\"title\":{\"text\":\"Pizzas\"}}};\r\n",
                     "            var config = {\"responsive\":true};\r\n",
                     "            Plotly.newPlot('8b39ba31-6417-4686-8bc2-ed99283417ee', data, layout, config);\r\n",
                     "});\r\n",
                     "            };\r\n",
                     "            if ((typeof(requirejs) !==  typeof(Function)) || (typeof(requirejs.config) !== typeof(Function))) {\r\n",
                     "                var script = document.createElement(\"script\");\r\n",
                     "                script.setAttribute(\"src\", \"https://cdnjs.cloudflare.com/ajax/libs/require.js/2.3.6/require.min.js\");\r\n",
                     "                script.onload = function(){\r\n",
                     "                    renderPlotly_8b39ba31641746868bc2ed99283417ee();\r\n",
                     "                };\r\n",
                     "                document.getElementsByTagName(\"head\")[0].appendChild(script);\r\n",
                     "            }\r\n",
                     "            else {\r\n",
                     "                renderPlotly_8b39ba31641746868bc2ed99283417ee();\r\n",
                     "            }\r\n",
                     "</script>\r\n"
                  ]
               },
               "metadata": {},
               "output_type": "display_data"
            }
         ],
         "source": [
            "Chart.Point(x, y, \"test\")\n",
            "|> Chart.withXAxisStyle(\"Reservations\")\n",
            "|> Chart.withYAxisStyle(\"Pizzas\")"
         ]
      },
      {
         "cell_type": "code",
         "execution_count": 25,
         "metadata": {
            "dotnet_interactive": {
               "language": "fsharp"
            }
         },
         "outputs": [],
         "source": [
            "let predict (x: float[]) weight = Array.map ((*) weight) x\n",
            "\n",
            "let average (x: float[]) = (Array.fold (+) 0.0 x) / (float x.Length)\n",
            "\n",
            "let (.+) (x: float[]) (y: float[]) = Array.map2 (+) x y\n",
            "let (.-) (x: float[]) (y: float[]) = Array.map2 (-) x y\n",
            "let (.^) (x: float[]) y = Array.map (fun e -> e ** y) x \n",
            "\n",
            "let loss (x: float[]) (y: float[]) weight =\n",
            "    average(((predict x weight) .- y) .^ 2.0)\n",
            "\n",
            "let train x y iterations learningRate =\n",
            "    let mutable w = 0.0\n",
            "    for i in 0..iterations do\n",
            "        let currentLoss = loss x y w\n",
            "        //printfn \"Iteration %4d => Loss: %.6f\" i currentLoss\n",
            "        if loss x y (w + learningRate) < currentLoss then\n",
            "            w <- w + learningRate\n",
            "        elif loss x y (w - learningRate) < currentLoss then\n",
            "            w <- w - learningRate\n",
            "    w"
         ]
      },
      {
         "cell_type": "code",
         "execution_count": 26,
         "metadata": {
            "dotnet_interactive": {
               "language": "fsharp"
            }
         },
         "outputs": [
            {
               "name": "stdout",
               "output_type": "stream",
               "text": [
                  "w=1.840\n",
                  "Prediction: x=20 => y=36.80\n"
               ]
            }
         ],
         "source": [
            "let w = train x y 10000 0.01\n",
            "printfn \"w=%.3f\" w\n",
            "printfn \"Prediction: x=%d => y=%.2f\" 20 (predict [|20.0|] w).[0]"
         ]
      },
      {
         "cell_type": "code",
         "execution_count": 27,
         "metadata": {
            "dotnet_interactive": {
               "language": "fsharp"
            }
         },
         "outputs": [
            {
               "data": {
                  "text/html": [
                     "<!DOCTYPE html>\r\n",
                     "<div style=\"width: 900px; height: 500px;\" id=\"68e9066d-ac65-4a68-90a8-b5b6384ef9a9\"></div><script type=\"text/javascript\">\r\n",
                     "\n",
                     "var renderPlotly = function() {\n",
                     "    var xplotRequire = require.config({context:'xplot-3.0.1',paths:{plotly:'https://cdn.plot.ly/plotly-1.49.2.min'}}) || require;\n",
                     "    xplotRequire(['plotly'], function(Plotly) { \r\n",
                     "\n",
                     "            var data = [{\"type\":\"scatter\",\"x\":{},\"y\":{},\"mode\":\"markers\",\"name\":\"Data\"},{\"type\":\"scatter\",\"x\":[1.0,2.0,3.0,4.0,5.0,6.0,7.0,8.0,9.0,10.0,11.0,12.0,13.0,14.0,15.0,16.0,17.0,18.0,19.0,20.0,21.0,22.0,23.0,24.0,25.0,26.0,27.0,28.0,29.0,30.0,31.0,32.0,33.0,34.0,35.0,36.0,37.0,38.0,39.0,40.0,41.0,42.0,43.0,44.0,45.0,46.0,47.0,48.0,49.0,50.0,51.0],\"y\":[1.8400000000000014,3.680000000000003,5.520000000000004,7.360000000000006,9.200000000000006,11.040000000000008,12.88000000000001,14.720000000000011,16.560000000000013,18.400000000000013,20.240000000000016,22.080000000000016,23.92000000000002,25.76000000000002,27.600000000000023,29.440000000000023,31.280000000000022,33.120000000000026,34.96000000000003,36.800000000000026,38.64000000000003,40.48000000000003,42.320000000000036,44.16000000000003,46.000000000000036,47.84000000000004,49.680000000000035,51.52000000000004,53.36000000000004,55.200000000000045,57.04000000000004,58.880000000000045,60.72000000000005,62.560000000000045,64.40000000000005,66.24000000000005,68.08000000000006,69.92000000000006,71.76000000000006,73.60000000000005,75.44000000000005,77.28000000000006,79.12000000000006,80.96000000000006,82.80000000000007,84.64000000000007,86.48000000000006,88.32000000000006,90.16000000000007,92.00000000000007,93.84000000000007],\"name\":\"Prediction\"}];\n",
                     "           var layout = {\"xaxis\":{\"title\":\"Reservations\",\"_isSubplotObj\":true},\"yaxis\":{\"title\":\"Pizzas\",\"_isSubplotObj\":true}};\n",
                     "           Plotly.newPlot('68e9066d-ac65-4a68-90a8-b5b6384ef9a9', data, layout);\n",
                     "        \r\n",
                     "});\n",
                     "};\r\n",
                     "// ensure `require` is available globally\r\n",
                     "if ((typeof(require) !==  typeof(Function)) || (typeof(require.config) !== typeof(Function))) {\r\n",
                     "    let require_script = document.createElement('script');\r\n",
                     "    require_script.setAttribute('src', 'https://cdnjs.cloudflare.com/ajax/libs/require.js/2.3.6/require.min.js');\r\n",
                     "    require_script.setAttribute('type', 'text/javascript');\r\n",
                     "    \r\n",
                     "    \r\n",
                     "    require_script.onload = function() {\r\n",
                     "        renderPlotly();\r\n",
                     "    };\r\n",
                     "\r\n",
                     "    document.getElementsByTagName('head')[0].appendChild(require_script);\r\n",
                     "}\r\n",
                     "else {\r\n",
                     "    renderPlotly();\r\n",
                     "}\r\n",
                     "\r\n",
                     "</script>\r\n"
                  ]
               },
               "metadata": {},
               "output_type": "display_data"
            }
         ],
         "source": [
            "let lineX = [| (Array.min x)..1.0..(Array.max y) |]\n",
            "let lineY = predict lineX w\n",
            "\n",
            "[Scatter(x=X, y=Y, name=\"Data\", mode = \"markers\");\n",
            " Scatter(x=lineX, y=lineY, name=\"Prediction\")]\n",
            "|> Chart.Plot\n",
            "|> Chart.WithXTitle \"Reservations\"\n",
            "|> Chart.WithYTitle \"Pizzas\""
         ]
      },
      {
         "cell_type": "code",
         "execution_count": 28,
         "metadata": {
            "dotnet_interactive": {
               "language": "fsharp"
            }
         },
         "outputs": [],
         "source": [
            "let predict2 (x: float[]) weight bias = Array.map (fun e -> e*weight + bias) x\n",
            "\n",
            "let loss2 (x: float[]) (y: float[]) weight bias =\n",
            "    average(((predict2 x weight bias) .- y) .^ 2.0)\n",
            "\n",
            "let train2 x y iterations learningRate =\n",
            "    let mutable weight = 0.0\n",
            "    let mutable bias = 0.0\n",
            "    for i in 0..iterations do\n",
            "        let currentLoss = loss2 x y weight bias\n",
            "        if loss2 x y (weight + learningRate) bias < currentLoss then\n",
            "            weight <- weight + learningRate\n",
            "        elif loss2 x y (weight - learningRate) bias < currentLoss then\n",
            "            weight <- weight - learningRate\n",
            "        elif loss2 x y weight (bias + learningRate) < currentLoss then\n",
            "            bias <- bias + learningRate\n",
            "        elif loss2 x y weight (bias - learningRate) < currentLoss then\n",
            "            bias <- bias - learningRate\n",
            "    weight, bias"
         ]
      },
      {
         "cell_type": "code",
         "execution_count": 29,
         "metadata": {
            "dotnet_interactive": {
               "language": "fsharp"
            },
            "polyglot_notebook": {
               "kernelName": "fsharp"
            }
         },
         "outputs": [
            {
               "name": "stdout",
               "output_type": "stream",
               "text": [
                  "w=1.100, b=12.930\n",
                  "Prediction: x=20 => y=34.93\n"
               ]
            }
         ],
         "source": [
            "let w, b = train2 x y 10000 0.01\n",
            "\n",
            "printfn \"w=%.3f, b=%.3f\" w b\n",
            "printfn \"Prediction: x=%d => y=%.2f\" 20 (predict2 [|20.0|] w b).[0]"
         ]
      },
      {
         "cell_type": "code",
         "execution_count": 31,
         "metadata": {
            "dotnet_interactive": {
               "language": "fsharp"
            }
         },
         "outputs": [
            {
               "data": {
                  "text/html": [
                     "<!DOCTYPE html>\r\n",
                     "<div style=\"width: 900px; height: 500px;\" id=\"fea24e05-2982-4fb1-935e-bedcfb6ddf68\"></div><script type=\"text/javascript\">\r\n",
                     "\n",
                     "var renderPlotly = function() {\n",
                     "    var xplotRequire = require.config({context:'xplot-3.0.1',paths:{plotly:'https://cdn.plot.ly/plotly-1.49.2.min'}}) || require;\n",
                     "    xplotRequire(['plotly'], function(Plotly) { \r\n",
                     "\n",
                     "            var data = [{\"type\":\"scatter\",\"x\":[13.0,2.0,14.0,23.0,13.0,1.0,18.0,10.0,26.0,3.0,3.0,21.0,7.0,22.0,2.0,27.0,6.0,10.0,18.0,15.0,9.0,26.0,8.0,15.0,10.0,21.0,5.0,6.0,13.0,13.0],\"y\":[33.0,16.0,32.0,51.0,27.0,16.0,34.0,17.0,29.0,15.0,15.0,32.0,22.0,37.0,13.0,44.0,16.0,21.0,37.0,30.0,26.0,34.0,23.0,39.0,27.0,37.0,17.0,18.0,25.0,23.0],\"mode\":\"markers\",\"name\":\"Data\"},{\"type\":\"scatter\",\"x\":[1.0,2.0,3.0,4.0,5.0,6.0,7.0,8.0,9.0,10.0,11.0,12.0,13.0,14.0,15.0,16.0,17.0,18.0,19.0,20.0,21.0,22.0,23.0,24.0,25.0,26.0,27.0],\"y\":[14.02999999999977,15.12999999999977,16.22999999999977,17.32999999999977,18.429999999999772,19.529999999999774,20.629999999999775,21.729999999999777,22.829999999999778,23.929999999999776,25.029999999999777,26.12999999999978,27.229999999999777,28.329999999999778,29.42999999999978,30.52999999999978,31.629999999999782,32.729999999999784,33.829999999999785,34.92999999999978,36.02999999999979,37.12999999999978,38.22999999999979,39.329999999999785,40.42999999999979,41.52999999999979,42.62999999999979],\"name\":\"Prediction\"}];\n",
                     "           var layout = {\"xaxis\":{\"title\":\"Reservations\",\"_isSubplotObj\":true},\"yaxis\":{\"title\":\"Pizzas\",\"_isSubplotObj\":true}};\n",
                     "           Plotly.newPlot('fea24e05-2982-4fb1-935e-bedcfb6ddf68', data, layout);\n",
                     "        \r\n",
                     "});\n",
                     "};\r\n",
                     "// ensure `require` is available globally\r\n",
                     "if ((typeof(require) !==  typeof(Function)) || (typeof(require.config) !== typeof(Function))) {\r\n",
                     "    let require_script = document.createElement('script');\r\n",
                     "    require_script.setAttribute('src', 'https://cdnjs.cloudflare.com/ajax/libs/require.js/2.3.6/require.min.js');\r\n",
                     "    require_script.setAttribute('type', 'text/javascript');\r\n",
                     "    \r\n",
                     "    \r\n",
                     "    require_script.onload = function() {\r\n",
                     "        renderPlotly();\r\n",
                     "    };\r\n",
                     "\r\n",
                     "    document.getElementsByTagName('head')[0].appendChild(require_script);\r\n",
                     "}\r\n",
                     "else {\r\n",
                     "    renderPlotly();\r\n",
                     "}\r\n",
                     "\r\n",
                     "</script>\r\n"
                  ]
               },
               "metadata": {},
               "output_type": "display_data"
            }
         ],
         "source": [
            "let lineX = [| (Array.min x)..1.0..(Array.max x) |]\n",
            "let lineY = predict2 lineX w b\n",
            "\n",
            "[Scatter(x=x, y=y, name=\"Data\", mode = \"markers\");\n",
            " Scatter(x=lineX, y=lineY, name=\"Prediction\")]\n",
            "|> Chart.Plot\n",
            "|> Chart.WithXTitle \"Reservations\"\n",
            "|> Chart.WithYTitle \"Pizzas\""
         ]
      }
   ],
   "metadata": {
      "kernelspec": {
         "display_name": ".NET (C#)",
         "language": "C#",
         "name": ".net-csharp"
      },
      "language_info": {
         "name": "polyglot-notebook"
      },
      "polyglot_notebook": {
         "kernelInfo": {
            "defaultKernelName": "csharp",
            "items": [
               {
                  "aliases": [],
                  "name": ".NET"
               },
               {
                  "aliases": [
                     "C#",
                     "c#"
                  ],
                  "languageName": "C#",
                  "name": "csharp"
               },
               {
                  "aliases": [
                     "F#",
                     "f#"
                  ],
                  "languageName": "F#",
                  "name": "fsharp"
               },
               {
                  "aliases": [],
                  "languageName": "HTML",
                  "name": "html"
               },
               {
                  "aliases": [
                     "js"
                  ],
                  "languageName": "JavaScript",
                  "name": "javascript"
               },
               {
                  "aliases": [],
                  "languageName": "KQL",
                  "name": "kql"
               },
               {
                  "aliases": [],
                  "languageName": "Mermaid",
                  "name": "mermaid"
               },
               {
                  "aliases": [
                     "powershell"
                  ],
                  "languageName": "PowerShell",
                  "name": "pwsh"
               },
               {
                  "aliases": [],
                  "languageName": "SQL",
                  "name": "sql"
               },
               {
                  "aliases": [],
                  "name": "value"
               },
               {
                  "aliases": [
                     "frontend"
                  ],
                  "name": "vscode"
               },
               {
                  "aliases": [],
                  "name": "webview"
               }
            ]
         }
      }
   },
   "nbformat": 4,
   "nbformat_minor": 4
}

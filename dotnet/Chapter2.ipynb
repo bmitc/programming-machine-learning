{
 "cells": [
  {
   "cell_type": "code",
   "execution_count": 1,
   "metadata": {},
   "source": [
    "#!fsharp\n",
    "#r \"nuget: FsLab\""
   ],
   "outputs": [
    {
     "output_type": "execute_result",
     "data": {
      "text/plain": "Installed package FsLab version 1.1.6"
     },
     "execution_count": 1,
     "metadata": {}
    }
   ]
  },
  {
   "cell_type": "code",
   "execution_count": 1,
   "metadata": {},
   "source": [
    "#!fsharp\n",
    "open FSharp.Data\n",
    "open XPlot.Plotly"
   ],
   "outputs": []
  },
  {
   "cell_type": "code",
   "execution_count": 1,
   "metadata": {},
   "source": [
    "#!fsharp\n",
    "let text = CsvFile.Load(\"C:/Users/bmitc/source/repos/ProgrammingMachineLearning/ProgrammingMachineLearning/data/pizza.txt\",\n",
    "                        separators=\",\", hasHeaders=true)\n",
    "\n",
    "let X,Y = [|for row in text.Rows -> (float row.[0], float row.[1])|] |> Array.unzip"
   ],
   "outputs": []
  },
  {
   "cell_type": "code",
   "execution_count": 1,
   "metadata": {},
   "source": [
    "#!fsharp\n",
    "X.[0..4]"
   ],
   "outputs": [
    {
     "output_type": "execute_result",
     "data": {
      "text/html": "<table><thead><tr><th><i>index</i></th><th>value</th></tr></thead><tbody><tr><td>0</td><td><div class=\"dni-plaintext\">13</div></td></tr><tr><td>1</td><td><div class=\"dni-plaintext\">2</div></td></tr><tr><td>2</td><td><div class=\"dni-plaintext\">14</div></td></tr><tr><td>3</td><td><div class=\"dni-plaintext\">23</div></td></tr><tr><td>4</td><td><div class=\"dni-plaintext\">13</div></td></tr></tbody></table>"
     },
     "execution_count": 1,
     "metadata": {}
    }
   ]
  },
  {
   "cell_type": "code",
   "execution_count": 1,
   "metadata": {},
   "source": [
    "#!fsharp\n",
    "Y.[0..4]"
   ],
   "outputs": [
    {
     "output_type": "execute_result",
     "data": {
      "text/html": "<table><thead><tr><th><i>index</i></th><th>value</th></tr></thead><tbody><tr><td>0</td><td><div class=\"dni-plaintext\">33</div></td></tr><tr><td>1</td><td><div class=\"dni-plaintext\">16</div></td></tr><tr><td>2</td><td><div class=\"dni-plaintext\">32</div></td></tr><tr><td>3</td><td><div class=\"dni-plaintext\">51</div></td></tr><tr><td>4</td><td><div class=\"dni-plaintext\">27</div></td></tr></tbody></table>"
     },
     "execution_count": 1,
     "metadata": {}
    }
   ]
  },
  {
   "cell_type": "code",
   "execution_count": 1,
   "metadata": {},
   "source": [
    "#!fsharp\n",
    "Scatter(x=X, y=Y, mode = \"markers\")\n",
    "|> Chart.Plot\n",
    "|> Chart.WithXTitle \"Reservations\"\n",
    "|> Chart.WithYTitle \"Pizzas\""
   ],
   "outputs": [
    {
     "output_type": "execute_result",
     "data": {
      "text/html": "<div id=\"8d52d6fb-b3e7-43f8-8077-9f44a40c9a84\" style=\"width: 900px; height: 500px;\"></div>\r\n<script type=\"text/javascript\">\r\n\r\nvar renderPlotly = function() {\r\n    var xplotRequire = require.config({context:'xplot-3.0.1',paths:{plotly:'https://cdn.plot.ly/plotly-1.49.2.min'}}) || require;\r\n    xplotRequire(['plotly'], function(Plotly) {\r\n\n            var data = [{\"type\":\"scatter\",\"x\":[13.0,2.0,14.0,23.0,13.0,1.0,18.0,10.0,26.0,3.0,3.0,21.0,7.0,22.0,2.0,27.0,6.0,10.0,18.0,15.0,9.0,26.0,8.0,15.0,10.0,21.0,5.0,6.0,13.0,13.0],\"y\":[33.0,16.0,32.0,51.0,27.0,16.0,34.0,17.0,29.0,15.0,15.0,32.0,22.0,37.0,13.0,44.0,16.0,21.0,37.0,30.0,26.0,34.0,23.0,39.0,27.0,37.0,17.0,18.0,25.0,23.0],\"mode\":\"markers\"}];\n            var layout = {\"xaxis\":{\"title\":\"Reservations\",\"_isSubplotObj\":true},\"yaxis\":{\"title\":\"Pizzas\",\"_isSubplotObj\":true}};\n            Plotly.newPlot('8d52d6fb-b3e7-43f8-8077-9f44a40c9a84', data, layout);\n        \r\n});\r\n};\r\n// ensure `require` is available globally\r\nif ((typeof(require) !==  typeof(Function)) || (typeof(require.config) !== typeof(Function))) {\r\n    let require_script = document.createElement('script');\r\n    require_script.setAttribute('src', 'https://cdnjs.cloudflare.com/ajax/libs/require.js/2.3.6/require.min.js');\r\n    require_script.setAttribute('type', 'text/javascript');\r\n    \r\n    \r\n    require_script.onload = function() {\r\n        renderPlotly();\r\n    };\r\n\r\n    document.getElementsByTagName('head')[0].appendChild(require_script);\r\n}\r\nelse {\r\n    renderPlotly();\r\n}\r\n\r\n</script>\r\n"
     },
     "execution_count": 1,
     "metadata": {}
    }
   ]
  },
  {
   "cell_type": "code",
   "execution_count": 1,
   "metadata": {},
   "source": [
    "#!fsharp\n",
    "let predict (x: float[]) weight = Array.map ((*) weight) x\n",
    "\n",
    "let average (x: float[]) = (Array.fold (+) 0.0 x) / (float x.Length)\n",
    "\n",
    "let (.+) (x: float[]) (y: float[]) = Array.map2 (+) x y\n",
    "let (.-) (x: float[]) (y: float[]) = Array.map2 (-) x y\n",
    "let (.^) (x: float[]) y = Array.map (fun e -> e ** y) x \n",
    "\n",
    "let loss (x: float[]) (y: float[]) weight =\n",
    "    average(((predict x weight) .- y) .^ 2.0)\n",
    "\n",
    "let train x y iterations learningRate =\n",
    "    let mutable w = 0.0\n",
    "    for i in 0..iterations do\n",
    "        let currentLoss = loss x y w\n",
    "        //printfn \"Iteration %4d => Loss: %.6f\" i currentLoss\n",
    "        if loss x y (w + learningRate) < currentLoss then\n",
    "            w <- w + learningRate\n",
    "        elif loss x y (w - learningRate) < currentLoss then\n",
    "            w <- w - learningRate\n",
    "    w"
   ],
   "outputs": []
  },
  {
   "cell_type": "code",
   "execution_count": 1,
   "metadata": {},
   "source": [
    "#!fsharp\n",
    "let w = train X Y 10000 0.01\n",
    "printfn \"w=%.3f\" w\n",
    "printfn \"Prediction: x=%d => y=%.2f\" 20 (predict [|20.0|] w).[0]"
   ],
   "outputs": [
    {
     "output_type": "execute_result",
     "data": {
      "text/plain": "w="
     },
     "execution_count": 1,
     "metadata": {}
    },
    {
     "output_type": "execute_result",
     "data": {
      "text/plain": "1.840"
     },
     "execution_count": 1,
     "metadata": {}
    },
    {
     "output_type": "execute_result",
     "data": {
      "text/plain": "\r\n"
     },
     "execution_count": 1,
     "metadata": {}
    },
    {
     "output_type": "execute_result",
     "data": {
      "text/plain": "Prediction: x="
     },
     "execution_count": 1,
     "metadata": {}
    },
    {
     "output_type": "execute_result",
     "data": {
      "text/plain": "20"
     },
     "execution_count": 1,
     "metadata": {}
    },
    {
     "output_type": "execute_result",
     "data": {
      "text/plain": " => y="
     },
     "execution_count": 1,
     "metadata": {}
    },
    {
     "output_type": "execute_result",
     "data": {
      "text/plain": "36.80"
     },
     "execution_count": 1,
     "metadata": {}
    },
    {
     "output_type": "execute_result",
     "data": {
      "text/plain": "\r\n"
     },
     "execution_count": 1,
     "metadata": {}
    }
   ]
  },
  {
   "cell_type": "code",
   "execution_count": 1,
   "metadata": {},
   "source": [
    "#!fsharp\n",
    "let lineX = [| (Array.min X)..1.0..(Array.max X) |]\n",
    "let lineY = predict lineX w\n",
    "\n",
    "[Scatter(x=X, y=Y, name=\"Data\", mode = \"markers\");\n",
    " Scatter(x=lineX, y=lineY, name=\"Prediction\")]\n",
    "|> Chart.Plot\n",
    "|> Chart.WithXTitle \"Reservations\"\n",
    "|> Chart.WithYTitle \"Pizzas\""
   ],
   "outputs": [
    {
     "output_type": "execute_result",
     "data": {
      "text/html": "<div id=\"ed9c1197-8116-4a28-97dc-d0142f3b24db\" style=\"width: 900px; height: 500px;\"></div>\r\n<script type=\"text/javascript\">\r\n\r\nvar renderPlotly = function() {\r\n    var xplotRequire = require.config({context:'xplot-3.0.1',paths:{plotly:'https://cdn.plot.ly/plotly-1.49.2.min'}}) || require;\r\n    xplotRequire(['plotly'], function(Plotly) {\r\n\n            var data = [{\"type\":\"scatter\",\"x\":[13.0,2.0,14.0,23.0,13.0,1.0,18.0,10.0,26.0,3.0,3.0,21.0,7.0,22.0,2.0,27.0,6.0,10.0,18.0,15.0,9.0,26.0,8.0,15.0,10.0,21.0,5.0,6.0,13.0,13.0],\"y\":[33.0,16.0,32.0,51.0,27.0,16.0,34.0,17.0,29.0,15.0,15.0,32.0,22.0,37.0,13.0,44.0,16.0,21.0,37.0,30.0,26.0,34.0,23.0,39.0,27.0,37.0,17.0,18.0,25.0,23.0],\"mode\":\"markers\",\"name\":\"Data\"},{\"type\":\"scatter\",\"x\":[1.0,2.0,3.0,4.0,5.0,6.0,7.0,8.0,9.0,10.0,11.0,12.0,13.0,14.0,15.0,16.0,17.0,18.0,19.0,20.0,21.0,22.0,23.0,24.0,25.0,26.0,27.0],\"y\":[1.8400000000000014,3.680000000000003,5.520000000000004,7.360000000000006,9.200000000000006,11.040000000000008,12.88000000000001,14.720000000000011,16.560000000000013,18.400000000000013,20.240000000000016,22.080000000000016,23.92000000000002,25.76000000000002,27.600000000000023,29.440000000000023,31.280000000000022,33.120000000000026,34.96000000000003,36.800000000000026,38.64000000000003,40.48000000000003,42.320000000000036,44.16000000000003,46.000000000000036,47.84000000000004,49.680000000000035],\"name\":\"Prediction\"}];\n            var layout = {\"xaxis\":{\"title\":\"Reservations\",\"_isSubplotObj\":true},\"yaxis\":{\"title\":\"Pizzas\",\"_isSubplotObj\":true}};\n            Plotly.newPlot('ed9c1197-8116-4a28-97dc-d0142f3b24db', data, layout);\n        \r\n});\r\n};\r\n// ensure `require` is available globally\r\nif ((typeof(require) !==  typeof(Function)) || (typeof(require.config) !== typeof(Function))) {\r\n    let require_script = document.createElement('script');\r\n    require_script.setAttribute('src', 'https://cdnjs.cloudflare.com/ajax/libs/require.js/2.3.6/require.min.js');\r\n    require_script.setAttribute('type', 'text/javascript');\r\n    \r\n    \r\n    require_script.onload = function() {\r\n        renderPlotly();\r\n    };\r\n\r\n    document.getElementsByTagName('head')[0].appendChild(require_script);\r\n}\r\nelse {\r\n    renderPlotly();\r\n}\r\n\r\n</script>\r\n"
     },
     "execution_count": 1,
     "metadata": {}
    }
   ]
  },
  {
   "cell_type": "code",
   "execution_count": 1,
   "metadata": {},
   "source": [
    "#!fsharp\n",
    "let predict2 (x: float[]) weight bias = Array.map (fun e -> e*weight + bias) x\n",
    "\n",
    "let loss2 (x: float[]) (y: float[]) weight bias =\n",
    "    average(((predict2 x weight bias) .- y) .^ 2.0)\n",
    "\n",
    "let train2 x y iterations learningRate =\n",
    "    let mutable weight = 0.0\n",
    "    let mutable bias = 0.0\n",
    "    for i in 0..iterations do\n",
    "        let currentLoss = loss2 x y weight bias\n",
    "        if loss2 x y (weight + learningRate) bias < currentLoss then\n",
    "            weight <- weight + learningRate\n",
    "        elif loss2 x y (weight - learningRate) bias < currentLoss then\n",
    "            weight <- weight - learningRate\n",
    "        elif loss2 x y weight (bias + learningRate) < currentLoss then\n",
    "            bias <- bias + learningRate\n",
    "        elif loss2 x y weight (bias - learningRate) < currentLoss then\n",
    "            bias <- bias - learningRate\n",
    "    weight, bias"
   ],
   "outputs": []
  },
  {
   "cell_type": "code",
   "execution_count": 1,
   "metadata": {},
   "source": [
    "#!fsharp\n",
    "let w, b = train2 X Y 10000 0.01\n",
    "\n",
    "printfn \"w=%.3f, b=%.3f\" w b\n",
    "printfn \"Prediction: x=%d => y=%.2f\" 20 (predict2 [|20.0|] w b).[0]"
   ],
   "outputs": [
    {
     "output_type": "execute_result",
     "data": {
      "text/plain": "w="
     },
     "execution_count": 1,
     "metadata": {}
    },
    {
     "output_type": "execute_result",
     "data": {
      "text/plain": "1.100"
     },
     "execution_count": 1,
     "metadata": {}
    },
    {
     "output_type": "execute_result",
     "data": {
      "text/plain": ", b="
     },
     "execution_count": 1,
     "metadata": {}
    },
    {
     "output_type": "execute_result",
     "data": {
      "text/plain": "12.930"
     },
     "execution_count": 1,
     "metadata": {}
    },
    {
     "output_type": "execute_result",
     "data": {
      "text/plain": "\r\n"
     },
     "execution_count": 1,
     "metadata": {}
    },
    {
     "output_type": "execute_result",
     "data": {
      "text/plain": "Prediction: x="
     },
     "execution_count": 1,
     "metadata": {}
    },
    {
     "output_type": "execute_result",
     "data": {
      "text/plain": "20"
     },
     "execution_count": 1,
     "metadata": {}
    },
    {
     "output_type": "execute_result",
     "data": {
      "text/plain": " => y="
     },
     "execution_count": 1,
     "metadata": {}
    },
    {
     "output_type": "execute_result",
     "data": {
      "text/plain": "34.93"
     },
     "execution_count": 1,
     "metadata": {}
    },
    {
     "output_type": "execute_result",
     "data": {
      "text/plain": "\r\n"
     },
     "execution_count": 1,
     "metadata": {}
    }
   ]
  },
  {
   "cell_type": "code",
   "execution_count": 1,
   "metadata": {},
   "source": [
    "#!fsharp\n",
    "let lineX = [| (Array.min X)..1.0..(Array.max X) |]\n",
    "let lineY = predict2 lineX w b\n",
    "\n",
    "[Scatter(x=X, y=Y, name=\"Data\", mode = \"markers\");\n",
    " Scatter(x=lineX, y=lineY, name=\"Prediction\")]\n",
    "|> Chart.Plot\n",
    "|> Chart.WithXTitle \"Reservations\"\n",
    "|> Chart.WithYTitle \"Pizzas\""
   ],
   "outputs": [
    {
     "output_type": "execute_result",
     "data": {
      "text/html": "<div id=\"4aa30085-7160-4a0e-8777-e71993f1d9eb\" style=\"width: 900px; height: 500px;\"></div>\r\n<script type=\"text/javascript\">\r\n\r\nvar renderPlotly = function() {\r\n    var xplotRequire = require.config({context:'xplot-3.0.1',paths:{plotly:'https://cdn.plot.ly/plotly-1.49.2.min'}}) || require;\r\n    xplotRequire(['plotly'], function(Plotly) {\r\n\n            var data = [{\"type\":\"scatter\",\"x\":[13.0,2.0,14.0,23.0,13.0,1.0,18.0,10.0,26.0,3.0,3.0,21.0,7.0,22.0,2.0,27.0,6.0,10.0,18.0,15.0,9.0,26.0,8.0,15.0,10.0,21.0,5.0,6.0,13.0,13.0],\"y\":[33.0,16.0,32.0,51.0,27.0,16.0,34.0,17.0,29.0,15.0,15.0,32.0,22.0,37.0,13.0,44.0,16.0,21.0,37.0,30.0,26.0,34.0,23.0,39.0,27.0,37.0,17.0,18.0,25.0,23.0],\"mode\":\"markers\",\"name\":\"Data\"},{\"type\":\"scatter\",\"x\":[1.0,2.0,3.0,4.0,5.0,6.0,7.0,8.0,9.0,10.0,11.0,12.0,13.0,14.0,15.0,16.0,17.0,18.0,19.0,20.0,21.0,22.0,23.0,24.0,25.0,26.0,27.0],\"y\":[14.02999999999977,15.12999999999977,16.22999999999977,17.32999999999977,18.429999999999772,19.529999999999774,20.629999999999775,21.729999999999777,22.829999999999778,23.929999999999776,25.029999999999777,26.12999999999978,27.229999999999777,28.329999999999778,29.42999999999978,30.52999999999978,31.629999999999782,32.729999999999784,33.829999999999785,34.92999999999978,36.02999999999979,37.12999999999978,38.22999999999979,39.329999999999785,40.42999999999979,41.52999999999979,42.62999999999979],\"name\":\"Prediction\"}];\n            var layout = {\"xaxis\":{\"title\":\"Reservations\",\"_isSubplotObj\":true},\"yaxis\":{\"title\":\"Pizzas\",\"_isSubplotObj\":true}};\n            Plotly.newPlot('4aa30085-7160-4a0e-8777-e71993f1d9eb', data, layout);\n        \r\n});\r\n};\r\n// ensure `require` is available globally\r\nif ((typeof(require) !==  typeof(Function)) || (typeof(require.config) !== typeof(Function))) {\r\n    let require_script = document.createElement('script');\r\n    require_script.setAttribute('src', 'https://cdnjs.cloudflare.com/ajax/libs/require.js/2.3.6/require.min.js');\r\n    require_script.setAttribute('type', 'text/javascript');\r\n    \r\n    \r\n    require_script.onload = function() {\r\n        renderPlotly();\r\n    };\r\n\r\n    document.getElementsByTagName('head')[0].appendChild(require_script);\r\n}\r\nelse {\r\n    renderPlotly();\r\n}\r\n\r\n</script>\r\n"
     },
     "execution_count": 1,
     "metadata": {}
    }
   ]
  }
 ],
 "metadata": {
  "kernelspec": {
   "display_name": ".NET (C#)",
   "language": "C#",
   "name": ".net-csharp"
  },
  "language_info": {
   "file_extension": ".cs",
   "mimetype": "text/x-csharp",
   "name": "C#",
   "pygments_lexer": "csharp",
   "version": "8.0"
  }
 },
 "nbformat": 4,
 "nbformat_minor": 4
}